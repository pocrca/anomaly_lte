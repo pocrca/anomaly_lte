{
 "cells": [
  {
   "attachments": {},
   "cell_type": "markdown",
   "metadata": {},
   "source": [
    "# EDA"
   ]
  },
  {
   "cell_type": "code",
   "execution_count": 1,
   "metadata": {},
   "outputs": [],
   "source": [
    "import numpy as np\n",
    "import pandas as pd\n",
    "import matplotlib.pyplot as plt\n",
    "import sklearn"
   ]
  },
  {
   "cell_type": "code",
   "execution_count": 2,
   "metadata": {},
   "outputs": [],
   "source": [
    "import seaborn as sns\n",
    "%matplotlib inline"
   ]
  },
  {
   "cell_type": "code",
   "execution_count": 3,
   "metadata": {},
   "outputs": [
    {
     "data": {
      "text/html": [
       "<div>\n",
       "<style scoped>\n",
       "    .dataframe tbody tr th:only-of-type {\n",
       "        vertical-align: middle;\n",
       "    }\n",
       "\n",
       "    .dataframe tbody tr th {\n",
       "        vertical-align: top;\n",
       "    }\n",
       "\n",
       "    .dataframe thead th {\n",
       "        text-align: right;\n",
       "    }\n",
       "</style>\n",
       "<table border=\"1\" class=\"dataframe\">\n",
       "  <thead>\n",
       "    <tr style=\"text-align: right;\">\n",
       "      <th></th>\n",
       "      <th>Time</th>\n",
       "      <th>CellName</th>\n",
       "      <th>PRBUsageUL</th>\n",
       "      <th>PRBUsageDL</th>\n",
       "      <th>meanThr_DL</th>\n",
       "      <th>meanThr_UL</th>\n",
       "      <th>maxThr_DL</th>\n",
       "      <th>maxThr_UL</th>\n",
       "      <th>meanUE_DL</th>\n",
       "      <th>meanUE_UL</th>\n",
       "      <th>maxUE_DL</th>\n",
       "      <th>maxUE_UL</th>\n",
       "      <th>maxUE_UL+DL</th>\n",
       "      <th>Unusual</th>\n",
       "    </tr>\n",
       "  </thead>\n",
       "  <tbody>\n",
       "    <tr>\n",
       "      <th>0</th>\n",
       "      <td>10:45</td>\n",
       "      <td>3BLTE</td>\n",
       "      <td>12.3848</td>\n",
       "      <td>1.4019</td>\n",
       "      <td>0.3927</td>\n",
       "      <td>0.0438</td>\n",
       "      <td>16.6522</td>\n",
       "      <td>0.6806</td>\n",
       "      <td>1.1293</td>\n",
       "      <td>1.0491</td>\n",
       "      <td>5</td>\n",
       "      <td>3</td>\n",
       "      <td>8</td>\n",
       "      <td>1</td>\n",
       "    </tr>\n",
       "    <tr>\n",
       "      <th>1</th>\n",
       "      <td>9:45</td>\n",
       "      <td>1BLTE</td>\n",
       "      <td>22.0438</td>\n",
       "      <td>2.0016</td>\n",
       "      <td>0.5620</td>\n",
       "      <td>0.2697</td>\n",
       "      <td>10.3994</td>\n",
       "      <td>1.1771</td>\n",
       "      <td>1.4480</td>\n",
       "      <td>1.1630</td>\n",
       "      <td>6</td>\n",
       "      <td>5</td>\n",
       "      <td>11</td>\n",
       "      <td>1</td>\n",
       "    </tr>\n",
       "    <tr>\n",
       "      <th>2</th>\n",
       "      <td>7:45</td>\n",
       "      <td>9BLTE</td>\n",
       "      <td>0.5105</td>\n",
       "      <td>0.4258</td>\n",
       "      <td>0.0152</td>\n",
       "      <td>0.0106</td>\n",
       "      <td>0.2755</td>\n",
       "      <td>0.1685</td>\n",
       "      <td>1.0379</td>\n",
       "      <td>1.0535</td>\n",
       "      <td>1</td>\n",
       "      <td>2</td>\n",
       "      <td>3</td>\n",
       "      <td>1</td>\n",
       "    </tr>\n",
       "    <tr>\n",
       "      <th>3</th>\n",
       "      <td>2:45</td>\n",
       "      <td>4ALTE</td>\n",
       "      <td>1.9963</td>\n",
       "      <td>1.1513</td>\n",
       "      <td>0.9908</td>\n",
       "      <td>0.0245</td>\n",
       "      <td>64.7465</td>\n",
       "      <td>0.8747</td>\n",
       "      <td>1.0766</td>\n",
       "      <td>1.0526</td>\n",
       "      <td>3</td>\n",
       "      <td>2</td>\n",
       "      <td>5</td>\n",
       "      <td>1</td>\n",
       "    </tr>\n",
       "    <tr>\n",
       "      <th>4</th>\n",
       "      <td>3:30</td>\n",
       "      <td>10BLTE</td>\n",
       "      <td>0.3030</td>\n",
       "      <td>0.4040</td>\n",
       "      <td>0.0160</td>\n",
       "      <td>0.0130</td>\n",
       "      <td>0.3480</td>\n",
       "      <td>0.1680</td>\n",
       "      <td>1.0110</td>\n",
       "      <td>1.0110</td>\n",
       "      <td>2</td>\n",
       "      <td>1</td>\n",
       "      <td>3</td>\n",
       "      <td>0</td>\n",
       "    </tr>\n",
       "  </tbody>\n",
       "</table>\n",
       "</div>"
      ],
      "text/plain": [
       "    Time CellName  PRBUsageUL  PRBUsageDL  meanThr_DL  meanThr_UL  maxThr_DL  \\\n",
       "0  10:45    3BLTE     12.3848      1.4019      0.3927      0.0438    16.6522   \n",
       "1   9:45    1BLTE     22.0438      2.0016      0.5620      0.2697    10.3994   \n",
       "2   7:45    9BLTE      0.5105      0.4258      0.0152      0.0106     0.2755   \n",
       "3   2:45    4ALTE      1.9963      1.1513      0.9908      0.0245    64.7465   \n",
       "4   3:30   10BLTE      0.3030      0.4040      0.0160      0.0130     0.3480   \n",
       "\n",
       "   maxThr_UL  meanUE_DL  meanUE_UL  maxUE_DL  maxUE_UL  maxUE_UL+DL  Unusual  \n",
       "0     0.6806     1.1293     1.0491         5         3            8        1  \n",
       "1     1.1771     1.4480     1.1630         6         5           11        1  \n",
       "2     0.1685     1.0379     1.0535         1         2            3        1  \n",
       "3     0.8747     1.0766     1.0526         3         2            5        1  \n",
       "4     0.1680     1.0110     1.0110         2         1            3        0  "
      ]
     },
     "execution_count": 3,
     "metadata": {},
     "output_type": "execute_result"
    }
   ],
   "source": [
    "df = pd.read_csv(\"data/train.csv\", sep=\";\")\n",
    "df.head()"
   ]
  },
  {
   "cell_type": "code",
   "execution_count": 4,
   "metadata": {},
   "outputs": [
    {
     "data": {
      "text/plain": [
       "(36904, 14)"
      ]
     },
     "execution_count": 4,
     "metadata": {},
     "output_type": "execute_result"
    }
   ],
   "source": [
    "df.shape"
   ]
  },
  {
   "cell_type": "code",
   "execution_count": 5,
   "metadata": {},
   "outputs": [
    {
     "data": {
      "text/html": [
       "<div>\n",
       "<style scoped>\n",
       "    .dataframe tbody tr th:only-of-type {\n",
       "        vertical-align: middle;\n",
       "    }\n",
       "\n",
       "    .dataframe tbody tr th {\n",
       "        vertical-align: top;\n",
       "    }\n",
       "\n",
       "    .dataframe thead th {\n",
       "        text-align: right;\n",
       "    }\n",
       "</style>\n",
       "<table border=\"1\" class=\"dataframe\">\n",
       "  <thead>\n",
       "    <tr style=\"text-align: right;\">\n",
       "      <th></th>\n",
       "      <th>Time</th>\n",
       "      <th>CellName</th>\n",
       "      <th>PRBUsageUL</th>\n",
       "      <th>PRBUsageDL</th>\n",
       "      <th>meanThr_DL</th>\n",
       "      <th>meanThr_UL</th>\n",
       "      <th>maxThr_DL</th>\n",
       "      <th>maxThr_UL</th>\n",
       "      <th>meanUE_DL</th>\n",
       "      <th>meanUE_UL</th>\n",
       "      <th>maxUE_DL</th>\n",
       "      <th>maxUE_UL</th>\n",
       "      <th>maxUE_UL+DL</th>\n",
       "    </tr>\n",
       "  </thead>\n",
       "  <tbody>\n",
       "    <tr>\n",
       "      <th>0</th>\n",
       "      <td>3:00</td>\n",
       "      <td>6ALTE</td>\n",
       "      <td>3.8177</td>\n",
       "      <td>1.5251</td>\n",
       "      <td>0.5829</td>\n",
       "      <td>0.0445</td>\n",
       "      <td>23.1688</td>\n",
       "      <td>0.7669</td>\n",
       "      <td>1.0262</td>\n",
       "      <td>0.0100</td>\n",
       "      <td>3</td>\n",
       "      <td>3</td>\n",
       "      <td>6</td>\n",
       "    </tr>\n",
       "    <tr>\n",
       "      <th>1</th>\n",
       "      <td>20:30</td>\n",
       "      <td>6ULTE</td>\n",
       "      <td>2.0210</td>\n",
       "      <td>3.3350</td>\n",
       "      <td>0.5690</td>\n",
       "      <td>0.0750</td>\n",
       "      <td>29.2650</td>\n",
       "      <td>1.0490</td>\n",
       "      <td>1.3140</td>\n",
       "      <td>0.0100</td>\n",
       "      <td>6</td>\n",
       "      <td>3</td>\n",
       "      <td>9</td>\n",
       "    </tr>\n",
       "    <tr>\n",
       "      <th>2</th>\n",
       "      <td>11:30</td>\n",
       "      <td>2ALTE</td>\n",
       "      <td>0.5050</td>\n",
       "      <td>0.4040</td>\n",
       "      <td>0.0140</td>\n",
       "      <td>0.0100</td>\n",
       "      <td>0.2270</td>\n",
       "      <td>0.0970</td>\n",
       "      <td>1.0110</td>\n",
       "      <td>0.0100</td>\n",
       "      <td>2</td>\n",
       "      <td>1</td>\n",
       "      <td>3</td>\n",
       "    </tr>\n",
       "    <tr>\n",
       "      <th>3</th>\n",
       "      <td>6:45</td>\n",
       "      <td>3CLTE</td>\n",
       "      <td>1.0110</td>\n",
       "      <td>0.5050</td>\n",
       "      <td>0.2380</td>\n",
       "      <td>0.0210</td>\n",
       "      <td>20.9620</td>\n",
       "      <td>0.6090</td>\n",
       "      <td>1.0110</td>\n",
       "      <td>1.0110</td>\n",
       "      <td>2</td>\n",
       "      <td>1</td>\n",
       "      <td>3</td>\n",
       "    </tr>\n",
       "    <tr>\n",
       "      <th>4</th>\n",
       "      <td>15:45</td>\n",
       "      <td>6CLTE</td>\n",
       "      <td>4.0269</td>\n",
       "      <td>0.5104</td>\n",
       "      <td>0.0807</td>\n",
       "      <td>0.0414</td>\n",
       "      <td>3.9317</td>\n",
       "      <td>1.7811</td>\n",
       "      <td>1.0575</td>\n",
       "      <td>0.0107</td>\n",
       "      <td>3</td>\n",
       "      <td>2</td>\n",
       "      <td>5</td>\n",
       "    </tr>\n",
       "  </tbody>\n",
       "</table>\n",
       "</div>"
      ],
      "text/plain": [
       "    Time CellName  PRBUsageUL  PRBUsageDL  meanThr_DL  meanThr_UL  maxThr_DL  \\\n",
       "0   3:00    6ALTE      3.8177      1.5251      0.5829      0.0445    23.1688   \n",
       "1  20:30    6ULTE      2.0210      3.3350      0.5690      0.0750    29.2650   \n",
       "2  11:30    2ALTE      0.5050      0.4040      0.0140      0.0100     0.2270   \n",
       "3   6:45    3CLTE      1.0110      0.5050      0.2380      0.0210    20.9620   \n",
       "4  15:45    6CLTE      4.0269      0.5104      0.0807      0.0414     3.9317   \n",
       "\n",
       "   maxThr_UL  meanUE_DL  meanUE_UL  maxUE_DL  maxUE_UL  maxUE_UL+DL  \n",
       "0     0.7669     1.0262     0.0100         3         3            6  \n",
       "1     1.0490     1.3140     0.0100         6         3            9  \n",
       "2     0.0970     1.0110     0.0100         2         1            3  \n",
       "3     0.6090     1.0110     1.0110         2         1            3  \n",
       "4     1.7811     1.0575     0.0107         3         2            5  "
      ]
     },
     "execution_count": 5,
     "metadata": {},
     "output_type": "execute_result"
    }
   ],
   "source": [
    "df_test = pd.read_csv(\"data/test.csv\", sep=\";\")\n",
    "df_test.head()"
   ]
  },
  {
   "cell_type": "code",
   "execution_count": 6,
   "metadata": {},
   "outputs": [
    {
     "data": {
      "text/plain": [
       "(9158, 13)"
      ]
     },
     "execution_count": 6,
     "metadata": {},
     "output_type": "execute_result"
    }
   ],
   "source": [
    "df_test.shape"
   ]
  },
  {
   "cell_type": "code",
   "execution_count": 7,
   "metadata": {},
   "outputs": [],
   "source": [
    "# test1"
   ]
  },
  {
   "cell_type": "code",
   "execution_count": null,
   "metadata": {},
   "outputs": [],
   "source": []
  }
 ],
 "metadata": {
  "kernelspec": {
   "display_name": "venv",
   "language": "python",
   "name": "python3"
  },
  "language_info": {
   "codemirror_mode": {
    "name": "ipython",
    "version": 3
   },
   "file_extension": ".py",
   "mimetype": "text/x-python",
   "name": "python",
   "nbconvert_exporter": "python",
   "pygments_lexer": "ipython3",
   "version": "3.11.4"
  },
  "orig_nbformat": 4,
  "vscode": {
   "interpreter": {
    "hash": "eb2ead87ca5e8cb33ef2004309d6921f55da18d4eca6cb85d31122c315821be1"
   }
  }
 },
 "nbformat": 4,
 "nbformat_minor": 2
}
